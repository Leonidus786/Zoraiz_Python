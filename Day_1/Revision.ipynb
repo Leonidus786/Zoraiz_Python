{
  "nbformat": 4,
  "nbformat_minor": 0,
  "metadata": {
    "colab": {
      "provenance": []
    },
    "kernelspec": {
      "name": "python3",
      "display_name": "Python 3"
    },
    "language_info": {
      "name": "python"
    }
  },
  "cells": [
    {
      "cell_type": "markdown",
      "source": [
        "## Revision"
      ],
      "metadata": {
        "id": "UV-g5iCiNOXt"
      }
    },
    {
      "cell_type": "code",
      "source": [],
      "metadata": {
        "id": "DkBPc2_TNJzh"
      },
      "execution_count": null,
      "outputs": []
    },
    {
      "cell_type": "code",
      "execution_count": 1,
      "metadata": {
        "colab": {
          "base_uri": "https://localhost:8080/"
        },
        "id": "t0N386f3MqLf",
        "outputId": "3d905a00-1cc1-42a2-9470-b11a2ca44005"
      },
      "outputs": [
        {
          "output_type": "stream",
          "name": "stdout",
          "text": [
            "Zoraiz\n"
          ]
        }
      ],
      "source": [
        "print(\"Zoraiz\")"
      ]
    },
    {
      "cell_type": "markdown",
      "source": [
        "### Strings -- Anything between single quotes('') and double quotes(\"\") and triple quotes (''' ''') will be treating as string."
      ],
      "metadata": {
        "id": "9MO5u17KNg-7"
      }
    },
    {
      "cell_type": "code",
      "source": [
        "a = \"Dubai\""
      ],
      "metadata": {
        "id": "1R94f0gaNB32"
      },
      "execution_count": 2,
      "outputs": []
    },
    {
      "cell_type": "code",
      "source": [
        "type(a)"
      ],
      "metadata": {
        "colab": {
          "base_uri": "https://localhost:8080/"
        },
        "id": "VjX9BFwNOBht",
        "outputId": "e843b30e-1ee8-49ae-c36a-1aac385ca162"
      },
      "execution_count": 3,
      "outputs": [
        {
          "output_type": "execute_result",
          "data": {
            "text/plain": [
              "str"
            ]
          },
          "metadata": {},
          "execution_count": 3
        }
      ]
    },
    {
      "cell_type": "code",
      "source": [
        "List_1 = [\"Zoraiz\", \"Abhishek\", 1, 2, 3]"
      ],
      "metadata": {
        "id": "c0mWcFl6ODQD"
      },
      "execution_count": 4,
      "outputs": []
    },
    {
      "cell_type": "code",
      "source": [
        "List_1"
      ],
      "metadata": {
        "colab": {
          "base_uri": "https://localhost:8080/"
        },
        "id": "7_SX03ghO0P9",
        "outputId": "a9f3d006-7945-4409-824f-e828d47a32ce"
      },
      "execution_count": 5,
      "outputs": [
        {
          "output_type": "execute_result",
          "data": {
            "text/plain": [
              "['Zoraiz', 'Abhishek', 1, 2, 3]"
            ]
          },
          "metadata": {},
          "execution_count": 5
        }
      ]
    },
    {
      "cell_type": "code",
      "source": [
        "animals = [\"lion\", \"cheeta\", \"tiger\", \"elephant\"]"
      ],
      "metadata": {
        "id": "mZZBeTJzO4pT"
      },
      "execution_count": 6,
      "outputs": []
    },
    {
      "cell_type": "code",
      "source": [
        "animals"
      ],
      "metadata": {
        "colab": {
          "base_uri": "https://localhost:8080/"
        },
        "id": "d64DTFmvSTlQ",
        "outputId": "c8260d5e-98a9-4bdb-f563-16b4891d3f9a"
      },
      "execution_count": 7,
      "outputs": [
        {
          "output_type": "execute_result",
          "data": {
            "text/plain": [
              "['lion', 'cheeta', 'tiger', 'elephant']"
            ]
          },
          "metadata": {},
          "execution_count": 7
        }
      ]
    },
    {
      "cell_type": "markdown",
      "source": [
        "### Accessing list items.\n",
        "\n",
        "#### List_name[index_number]"
      ],
      "metadata": {
        "id": "E9RGkJG-Spj0"
      }
    },
    {
      "cell_type": "code",
      "source": [
        "animals[0]"
      ],
      "metadata": {
        "colab": {
          "base_uri": "https://localhost:8080/",
          "height": 36
        },
        "id": "AyBeXJqZSUv6",
        "outputId": "f26d127b-79bf-4b36-fe2d-d4ba2fd1983e"
      },
      "execution_count": 8,
      "outputs": [
        {
          "output_type": "execute_result",
          "data": {
            "text/plain": [
              "'lion'"
            ],
            "application/vnd.google.colaboratory.intrinsic+json": {
              "type": "string"
            }
          },
          "metadata": {},
          "execution_count": 8
        }
      ]
    },
    {
      "cell_type": "code",
      "source": [
        "animals[3]"
      ],
      "metadata": {
        "colab": {
          "base_uri": "https://localhost:8080/",
          "height": 36
        },
        "id": "EF75JB5OSlLf",
        "outputId": "32a412de-ef80-40b8-9c2d-2845f8323fb3"
      },
      "execution_count": 9,
      "outputs": [
        {
          "output_type": "execute_result",
          "data": {
            "text/plain": [
              "'elephant'"
            ],
            "application/vnd.google.colaboratory.intrinsic+json": {
              "type": "string"
            }
          },
          "metadata": {},
          "execution_count": 9
        }
      ]
    },
    {
      "cell_type": "code",
      "source": [
        "# Negative indexing\n",
        "\n",
        "animals[-1]"
      ],
      "metadata": {
        "colab": {
          "base_uri": "https://localhost:8080/",
          "height": 36
        },
        "id": "t8t6OacgS4PZ",
        "outputId": "8ec09d3d-e4a3-452c-9054-0f3a0bae99a1"
      },
      "execution_count": 10,
      "outputs": [
        {
          "output_type": "execute_result",
          "data": {
            "text/plain": [
              "'elephant'"
            ],
            "application/vnd.google.colaboratory.intrinsic+json": {
              "type": "string"
            }
          },
          "metadata": {},
          "execution_count": 10
        }
      ]
    },
    {
      "cell_type": "code",
      "source": [
        "# getting the length of list -- means how many items are there inside my list."
      ],
      "metadata": {
        "id": "VAFaTMENTIxu"
      },
      "execution_count": 11,
      "outputs": []
    },
    {
      "cell_type": "code",
      "source": [
        "len(animals)"
      ],
      "metadata": {
        "colab": {
          "base_uri": "https://localhost:8080/"
        },
        "id": "CMT_L_osTS3B",
        "outputId": "b6d4d83b-816d-467e-dae8-72f19e2566ad"
      },
      "execution_count": 12,
      "outputs": [
        {
          "output_type": "execute_result",
          "data": {
            "text/plain": [
              "4"
            ]
          },
          "metadata": {},
          "execution_count": 12
        }
      ]
    },
    {
      "cell_type": "markdown",
      "source": [
        "### with the help of length you can get what is the first index and what is the last index.\n",
        "\n",
        "1. for example if list has 5 items then positive index will be 0, 1, 2, 3, 4.\n",
        "\n",
        "2. for negative indexing --> -5, -4, -3, -2, -1."
      ],
      "metadata": {
        "id": "az4DEFUfTfTB"
      }
    },
    {
      "cell_type": "code",
      "source": [
        "animals"
      ],
      "metadata": {
        "colab": {
          "base_uri": "https://localhost:8080/"
        },
        "id": "VrFGPjGRTW1-",
        "outputId": "a5614c90-ea5e-4a8b-83e1-1d3048db5b62"
      },
      "execution_count": 13,
      "outputs": [
        {
          "output_type": "execute_result",
          "data": {
            "text/plain": [
              "['lion', 'cheeta', 'tiger', 'elephant']"
            ]
          },
          "metadata": {},
          "execution_count": 13
        }
      ]
    },
    {
      "cell_type": "code",
      "source": [
        "animals[1]"
      ],
      "metadata": {
        "colab": {
          "base_uri": "https://localhost:8080/",
          "height": 36
        },
        "id": "RdxzOzarTZp1",
        "outputId": "04fc3685-6869-4a2f-8adf-834b53d98ebc"
      },
      "execution_count": 14,
      "outputs": [
        {
          "output_type": "execute_result",
          "data": {
            "text/plain": [
              "'cheeta'"
            ],
            "application/vnd.google.colaboratory.intrinsic+json": {
              "type": "string"
            }
          },
          "metadata": {},
          "execution_count": 14
        }
      ]
    },
    {
      "cell_type": "code",
      "source": [
        "animals[-3]"
      ],
      "metadata": {
        "colab": {
          "base_uri": "https://localhost:8080/",
          "height": 36
        },
        "id": "-gx7bxLSUFKt",
        "outputId": "58442bfc-9dd7-4da1-ba09-53a1f6355f2a"
      },
      "execution_count": 15,
      "outputs": [
        {
          "output_type": "execute_result",
          "data": {
            "text/plain": [
              "'cheeta'"
            ],
            "application/vnd.google.colaboratory.intrinsic+json": {
              "type": "string"
            }
          },
          "metadata": {},
          "execution_count": 15
        }
      ]
    },
    {
      "cell_type": "markdown",
      "source": [
        "#### slicing[start:end:escape]\n",
        "\n",
        "1. start -- will be included in your output.\n",
        "2. end -- end will not be included in your output.\n",
        "3. escape -- it will jump that number of things/characters."
      ],
      "metadata": {
        "id": "VmisY_bGURGl"
      }
    },
    {
      "cell_type": "code",
      "source": [
        "animals[0:2]"
      ],
      "metadata": {
        "colab": {
          "base_uri": "https://localhost:8080/"
        },
        "id": "2AymFR_pULlc",
        "outputId": "5ecc5244-1d7f-4803-c6c7-dc10c5e4f8c7"
      },
      "execution_count": 16,
      "outputs": [
        {
          "output_type": "execute_result",
          "data": {
            "text/plain": [
              "['lion', 'cheeta']"
            ]
          },
          "metadata": {},
          "execution_count": 16
        }
      ]
    },
    {
      "cell_type": "code",
      "source": [
        "animals[-4:-2]"
      ],
      "metadata": {
        "colab": {
          "base_uri": "https://localhost:8080/"
        },
        "id": "JFHtOVGzUjlg",
        "outputId": "2415a62c-f85d-4a08-f494-01e10b62b5cc"
      },
      "execution_count": 22,
      "outputs": [
        {
          "output_type": "execute_result",
          "data": {
            "text/plain": [
              "['lion', 'cheeta']"
            ]
          },
          "metadata": {},
          "execution_count": 22
        }
      ]
    },
    {
      "cell_type": "code",
      "source": [
        "animals[::2]"
      ],
      "metadata": {
        "colab": {
          "base_uri": "https://localhost:8080/"
        },
        "id": "X1AtxIbhVH89",
        "outputId": "b8a8c042-4dd3-43f3-a2b9-ac8cc466e9d6"
      },
      "execution_count": 24,
      "outputs": [
        {
          "output_type": "execute_result",
          "data": {
            "text/plain": [
              "['lion', 'tiger']"
            ]
          },
          "metadata": {},
          "execution_count": 24
        }
      ]
    },
    {
      "cell_type": "code",
      "source": [
        "numbers = [1,2,3,4,5,6,7,8,9,10]"
      ],
      "metadata": {
        "id": "P20o5G4sVb96"
      },
      "execution_count": 25,
      "outputs": []
    },
    {
      "cell_type": "code",
      "source": [
        "numbers[::2]"
      ],
      "metadata": {
        "colab": {
          "base_uri": "https://localhost:8080/"
        },
        "id": "CV-owc27Vzyz",
        "outputId": "30730e42-71f1-4223-cd52-9612a1ef88c7"
      },
      "execution_count": 26,
      "outputs": [
        {
          "output_type": "execute_result",
          "data": {
            "text/plain": [
              "[1, 3, 5, 7, 9]"
            ]
          },
          "metadata": {},
          "execution_count": 26
        }
      ]
    },
    {
      "cell_type": "code",
      "source": [
        "numbers[::]"
      ],
      "metadata": {
        "colab": {
          "base_uri": "https://localhost:8080/"
        },
        "id": "QPtn3_TsV3ly",
        "outputId": "8d004f7e-3131-4251-b51d-ac5eb4b16b58"
      },
      "execution_count": 28,
      "outputs": [
        {
          "output_type": "execute_result",
          "data": {
            "text/plain": [
              "[1, 2, 3, 4, 5, 6, 7, 8, 9, 10]"
            ]
          },
          "metadata": {},
          "execution_count": 28
        }
      ]
    },
    {
      "cell_type": "code",
      "source": [
        "numbers[3:6]"
      ],
      "metadata": {
        "colab": {
          "base_uri": "https://localhost:8080/"
        },
        "id": "AiQxNASxWBel",
        "outputId": "f13418f7-deef-49ff-aba4-3dc8c82d9470"
      },
      "execution_count": 30,
      "outputs": [
        {
          "output_type": "execute_result",
          "data": {
            "text/plain": [
              "[4, 5, 6]"
            ]
          },
          "metadata": {},
          "execution_count": 30
        }
      ]
    },
    {
      "cell_type": "code",
      "source": [],
      "metadata": {
        "id": "tZo79iL5WKWj"
      },
      "execution_count": null,
      "outputs": []
    }
  ]
}