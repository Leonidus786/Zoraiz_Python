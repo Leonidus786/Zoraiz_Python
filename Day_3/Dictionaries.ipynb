{
 "cells": [
  {
   "cell_type": "markdown",
   "id": "48ef3f14",
   "metadata": {},
   "source": [
    "##### Dictionaries are used to store data values in key:value pairs.\n",
    "\n",
    "##### A dictionary is a collection which is ordered*, changeable and do not allow duplicates."
   ]
  },
  {
   "cell_type": "markdown",
   "id": "5b932ca2",
   "metadata": {},
   "source": [
    "### () --- > Parentheses\n",
    "### {} --- > Curly braces\n",
    "### [] --- > Square Braces  (Brackets ~= Braces)"
   ]
  },
  {
   "cell_type": "markdown",
   "id": "d10f6d33",
   "metadata": {},
   "source": [
    "dict_1 = {\"key\":\"\"value\", \"Key_1\":\"Value\"}"
   ]
  },
  {
   "cell_type": "code",
   "execution_count": 4,
   "id": "deae8572",
   "metadata": {},
   "outputs": [],
   "source": [
    "dict_1 = {\"Key\":\"Value\",\"Name\": \"Zoraiz\", \"Class\":6, \"Roll_No.\":17, \"Address\":\"Dubai\"}"
   ]
  },
  {
   "cell_type": "code",
   "execution_count": 5,
   "id": "d1c8485f",
   "metadata": {},
   "outputs": [
    {
     "name": "stdout",
     "output_type": "stream",
     "text": [
      "<class 'dict'>\n"
     ]
    }
   ],
   "source": [
    "print(type(dict_1))"
   ]
  },
  {
   "cell_type": "code",
   "execution_count": 6,
   "id": "2fdbb159",
   "metadata": {},
   "outputs": [
    {
     "data": {
      "text/plain": [
       "'Zoraiz'"
      ]
     },
     "execution_count": 6,
     "metadata": {},
     "output_type": "execute_result"
    }
   ],
   "source": [
    "dict_1[\"Name\"]"
   ]
  },
  {
   "cell_type": "code",
   "execution_count": 9,
   "id": "9c663104",
   "metadata": {},
   "outputs": [
    {
     "data": {
      "text/plain": [
       "{'Key': 'Value',\n",
       " 'Name': 'Zoraiz',\n",
       " 'Class': 6,\n",
       " 'Roll_No.': 17,\n",
       " 'Address': 'Dubai'}"
      ]
     },
     "execution_count": 9,
     "metadata": {},
     "output_type": "execute_result"
    }
   ],
   "source": [
    "dict_1"
   ]
  },
  {
   "cell_type": "code",
   "execution_count": 8,
   "id": "834d9d48",
   "metadata": {},
   "outputs": [
    {
     "data": {
      "text/plain": [
       "dict_keys(['Key', 'Name', 'Class', 'Roll_No.', 'Address'])"
      ]
     },
     "execution_count": 8,
     "metadata": {},
     "output_type": "execute_result"
    }
   ],
   "source": [
    "dict_1.keys()"
   ]
  },
  {
   "cell_type": "code",
   "execution_count": 10,
   "id": "c85202d2",
   "metadata": {},
   "outputs": [
    {
     "data": {
      "text/plain": [
       "dict_values(['Value', 'Zoraiz', 6, 17, 'Dubai'])"
      ]
     },
     "execution_count": 10,
     "metadata": {},
     "output_type": "execute_result"
    }
   ],
   "source": [
    "dict_1.values()"
   ]
  },
  {
   "cell_type": "code",
   "execution_count": 11,
   "id": "1b5dcb83",
   "metadata": {},
   "outputs": [
    {
     "data": {
      "text/plain": [
       "17"
      ]
     },
     "execution_count": 11,
     "metadata": {},
     "output_type": "execute_result"
    }
   ],
   "source": [
    "dict_1[\"Roll_No.\"]"
   ]
  },
  {
   "cell_type": "code",
   "execution_count": 12,
   "id": "a1f8a825",
   "metadata": {},
   "outputs": [
    {
     "data": {
      "text/plain": [
       "'Dubai'"
      ]
     },
     "execution_count": 12,
     "metadata": {},
     "output_type": "execute_result"
    }
   ],
   "source": [
    "dict_1.get(\"Address\")"
   ]
  },
  {
   "cell_type": "code",
   "execution_count": 13,
   "id": "3b0f2a12",
   "metadata": {},
   "outputs": [],
   "source": [
    "dict_1[\"Address\"] = \"India\""
   ]
  },
  {
   "cell_type": "code",
   "execution_count": 14,
   "id": "52753b39",
   "metadata": {},
   "outputs": [
    {
     "data": {
      "text/plain": [
       "{'Key': 'Value',\n",
       " 'Name': 'Zoraiz',\n",
       " 'Class': 6,\n",
       " 'Roll_No.': 17,\n",
       " 'Address': 'India'}"
      ]
     },
     "execution_count": 14,
     "metadata": {},
     "output_type": "execute_result"
    }
   ],
   "source": [
    "dict_1"
   ]
  },
  {
   "cell_type": "code",
   "execution_count": 15,
   "id": "fd9522fd",
   "metadata": {},
   "outputs": [],
   "source": [
    "dict_1.update({\"Address\":\"Dubai\"})"
   ]
  },
  {
   "cell_type": "code",
   "execution_count": 16,
   "id": "e1f008e9",
   "metadata": {},
   "outputs": [
    {
     "data": {
      "text/plain": [
       "'Dubai'"
      ]
     },
     "execution_count": 16,
     "metadata": {},
     "output_type": "execute_result"
    }
   ],
   "source": [
    "dict_1.get(\"Address\")"
   ]
  },
  {
   "cell_type": "code",
   "execution_count": 22,
   "id": "34801894",
   "metadata": {},
   "outputs": [],
   "source": [
    "car_details = {\n",
    "    'brand': 'Ferrari',\n",
    "    'brand':'Ford',\n",
    "    'model': 'Mustang',\n",
    "    'year': 2020,\n",
    "    'year': 1964\n",
    "}"
   ]
  },
  {
   "cell_type": "code",
   "execution_count": 23,
   "id": "92c35ac9",
   "metadata": {},
   "outputs": [
    {
     "data": {
      "text/plain": [
       "{'brand': 'Ford', 'model': 'Mustang', 'year': 1964}"
      ]
     },
     "execution_count": 23,
     "metadata": {},
     "output_type": "execute_result"
    }
   ],
   "source": [
    "car_details"
   ]
  },
  {
   "cell_type": "code",
   "execution_count": 24,
   "id": "3bd73eb1",
   "metadata": {},
   "outputs": [],
   "source": [
    "car_details[\"color\"] = 'Black'"
   ]
  },
  {
   "cell_type": "code",
   "execution_count": 25,
   "id": "aebd0c5d",
   "metadata": {},
   "outputs": [
    {
     "name": "stdout",
     "output_type": "stream",
     "text": [
      "{'brand': 'Ford', 'model': 'Mustang', 'year': 1964, 'color': 'Black'}\n"
     ]
    }
   ],
   "source": [
    "print(car_details)"
   ]
  },
  {
   "cell_type": "code",
   "execution_count": 26,
   "id": "c21c9c01",
   "metadata": {},
   "outputs": [
    {
     "name": "stdout",
     "output_type": "stream",
     "text": [
      "{'brand': 'Ford', 'year': 1964}\n"
     ]
    }
   ],
   "source": [
    "thisdict = {\n",
    "  \"brand\": \"Ford\",\n",
    "  \"model\": \"Mustang\",\n",
    "  \"year\": 1964\n",
    "}\n",
    "thisdict.pop(\"model\")\n",
    "print(thisdict)"
   ]
  },
  {
   "cell_type": "code",
   "execution_count": 27,
   "id": "8bc3cc12",
   "metadata": {},
   "outputs": [
    {
     "name": "stdout",
     "output_type": "stream",
     "text": [
      "{'brand': 'Ford', 'model': 'Mustang'}\n"
     ]
    }
   ],
   "source": [
    "thisdict = {\n",
    "  \"brand\": \"Ford\",\n",
    "  \"model\": \"Mustang\",\n",
    "  \"year\": 1964\n",
    "}\n",
    "thisdict.popitem()\n",
    "print(thisdict)"
   ]
  },
  {
   "cell_type": "code",
   "execution_count": 28,
   "id": "e0788e0c",
   "metadata": {},
   "outputs": [
    {
     "ename": "NameError",
     "evalue": "name 'thisdict' is not defined",
     "output_type": "error",
     "traceback": [
      "\u001b[1;31m---------------------------------------------------------------------------\u001b[0m",
      "\u001b[1;31mNameError\u001b[0m                                 Traceback (most recent call last)",
      "Cell \u001b[1;32mIn[28], line 8\u001b[0m\n\u001b[0;32m      1\u001b[0m thisdict \u001b[38;5;241m=\u001b[39m {\n\u001b[0;32m      2\u001b[0m   \u001b[38;5;124m\"\u001b[39m\u001b[38;5;124mbrand\u001b[39m\u001b[38;5;124m\"\u001b[39m: \u001b[38;5;124m\"\u001b[39m\u001b[38;5;124mFord\u001b[39m\u001b[38;5;124m\"\u001b[39m,\n\u001b[0;32m      3\u001b[0m   \u001b[38;5;124m\"\u001b[39m\u001b[38;5;124mmodel\u001b[39m\u001b[38;5;124m\"\u001b[39m: \u001b[38;5;124m\"\u001b[39m\u001b[38;5;124mMustang\u001b[39m\u001b[38;5;124m\"\u001b[39m,\n\u001b[0;32m      4\u001b[0m   \u001b[38;5;124m\"\u001b[39m\u001b[38;5;124myear\u001b[39m\u001b[38;5;124m\"\u001b[39m: \u001b[38;5;241m1964\u001b[39m\n\u001b[0;32m      5\u001b[0m }\n\u001b[0;32m      6\u001b[0m \u001b[38;5;28;01mdel\u001b[39;00m thisdict\n\u001b[1;32m----> 8\u001b[0m \u001b[38;5;28mprint\u001b[39m(thisdict)\n",
      "\u001b[1;31mNameError\u001b[0m: name 'thisdict' is not defined"
     ]
    }
   ],
   "source": [
    "thisdict = {\n",
    "  \"brand\": \"Ford\",\n",
    "  \"model\": \"Mustang\",\n",
    "  \"year\": 1964\n",
    "}\n",
    "del thisdict\n",
    "\n",
    "print(thisdict) #this will cause an error because \"thisdict\" no longer exists."
   ]
  },
  {
   "cell_type": "code",
   "execution_count": 29,
   "id": "15cc164d",
   "metadata": {},
   "outputs": [
    {
     "data": {
      "text/plain": [
       "{'brand': 'Ford', 'model': 'Mustang', 'year': 1964, 'color': 'Black'}"
      ]
     },
     "execution_count": 29,
     "metadata": {},
     "output_type": "execute_result"
    }
   ],
   "source": [
    "car_details"
   ]
  },
  {
   "cell_type": "code",
   "execution_count": null,
   "id": "7b5b8b05",
   "metadata": {},
   "outputs": [
    {
     "name": "stdout",
     "output_type": "stream",
     "text": [
      "brand\n",
      "model\n",
      "year\n",
      "color\n"
     ]
    }
   ],
   "source": [
    "# for getting all keys -- with looping\n",
    "for i in car_details:\n",
    "    print(i)"
   ]
  },
  {
   "cell_type": "code",
   "execution_count": 33,
   "id": "00a40086",
   "metadata": {},
   "outputs": [
    {
     "name": "stdout",
     "output_type": "stream",
     "text": [
      "Ford\n",
      "Mustang\n",
      "1964\n",
      "Black\n"
     ]
    }
   ],
   "source": [
    "# for getting all values -- with looping\n",
    "for a in car_details:\n",
    "    print(car_details[a])"
   ]
  },
  {
   "cell_type": "code",
   "execution_count": 34,
   "id": "dde5734e",
   "metadata": {},
   "outputs": [
    {
     "name": "stdout",
     "output_type": "stream",
     "text": [
      "Key Value\n",
      "Name Zoraiz\n",
      "Class 6\n",
      "Roll_No. 17\n",
      "Address Dubai\n"
     ]
    }
   ],
   "source": [
    "for a,b in dict_1.items():\n",
    "    print(a,b)"
   ]
  },
  {
   "cell_type": "code",
   "execution_count": 35,
   "id": "ac72bac2",
   "metadata": {},
   "outputs": [
    {
     "data": {
      "text/plain": [
       "dict_items([('Key', 'Value'), ('Name', 'Zoraiz'), ('Class', 6), ('Roll_No.', 17), ('Address', 'Dubai')])"
      ]
     },
     "execution_count": 35,
     "metadata": {},
     "output_type": "execute_result"
    }
   ],
   "source": [
    "dict_1.items()"
   ]
  },
  {
   "cell_type": "code",
   "execution_count": 37,
   "id": "e2e936ae",
   "metadata": {},
   "outputs": [],
   "source": [
    "dict_2 = dict_1"
   ]
  },
  {
   "cell_type": "code",
   "execution_count": 38,
   "id": "bcd32877",
   "metadata": {},
   "outputs": [
    {
     "data": {
      "text/plain": [
       "{'Key': 'Value',\n",
       " 'Name': 'Zoraiz',\n",
       " 'Class': 6,\n",
       " 'Roll_No.': 17,\n",
       " 'Address': 'Dubai'}"
      ]
     },
     "execution_count": 38,
     "metadata": {},
     "output_type": "execute_result"
    }
   ],
   "source": [
    "dict_2"
   ]
  },
  {
   "cell_type": "code",
   "execution_count": 39,
   "id": "7e681800",
   "metadata": {},
   "outputs": [],
   "source": [
    "dict_1[\"Sports\"] = \"Tennis\""
   ]
  },
  {
   "cell_type": "code",
   "execution_count": 40,
   "id": "f916ec16",
   "metadata": {},
   "outputs": [
    {
     "data": {
      "text/plain": [
       "{'Key': 'Value',\n",
       " 'Name': 'Zoraiz',\n",
       " 'Class': 6,\n",
       " 'Roll_No.': 17,\n",
       " 'Address': 'Dubai',\n",
       " 'Sports': 'Tennis'}"
      ]
     },
     "execution_count": 40,
     "metadata": {},
     "output_type": "execute_result"
    }
   ],
   "source": [
    "dict_1"
   ]
  },
  {
   "cell_type": "code",
   "execution_count": 41,
   "id": "d1de81d1",
   "metadata": {},
   "outputs": [
    {
     "data": {
      "text/plain": [
       "{'Key': 'Value',\n",
       " 'Name': 'Zoraiz',\n",
       " 'Class': 6,\n",
       " 'Roll_No.': 17,\n",
       " 'Address': 'Dubai',\n",
       " 'Sports': 'Tennis'}"
      ]
     },
     "execution_count": 41,
     "metadata": {},
     "output_type": "execute_result"
    }
   ],
   "source": [
    "dict_2"
   ]
  },
  {
   "cell_type": "code",
   "execution_count": 42,
   "id": "236b0eca",
   "metadata": {},
   "outputs": [],
   "source": [
    "dict_3 = dict_1.copy()"
   ]
  },
  {
   "cell_type": "code",
   "execution_count": 43,
   "id": "d0c3cd25",
   "metadata": {},
   "outputs": [
    {
     "data": {
      "text/plain": [
       "{'Key': 'Value',\n",
       " 'Name': 'Zoraiz',\n",
       " 'Class': 6,\n",
       " 'Roll_No.': 17,\n",
       " 'Address': 'Dubai',\n",
       " 'Sports': 'Tennis'}"
      ]
     },
     "execution_count": 43,
     "metadata": {},
     "output_type": "execute_result"
    }
   ],
   "source": [
    "dict_3"
   ]
  },
  {
   "cell_type": "code",
   "execution_count": 44,
   "id": "730d6a49",
   "metadata": {},
   "outputs": [],
   "source": [
    "dict_1[\"Address\"] = \"USA\""
   ]
  },
  {
   "cell_type": "code",
   "execution_count": 45,
   "id": "126b76af",
   "metadata": {},
   "outputs": [
    {
     "data": {
      "text/plain": [
       "{'Key': 'Value',\n",
       " 'Name': 'Zoraiz',\n",
       " 'Class': 6,\n",
       " 'Roll_No.': 17,\n",
       " 'Address': 'USA',\n",
       " 'Sports': 'Tennis'}"
      ]
     },
     "execution_count": 45,
     "metadata": {},
     "output_type": "execute_result"
    }
   ],
   "source": [
    "dict_1"
   ]
  },
  {
   "cell_type": "code",
   "execution_count": 46,
   "id": "82490ff1",
   "metadata": {},
   "outputs": [
    {
     "data": {
      "text/plain": [
       "{'Key': 'Value',\n",
       " 'Name': 'Zoraiz',\n",
       " 'Class': 6,\n",
       " 'Roll_No.': 17,\n",
       " 'Address': 'Dubai',\n",
       " 'Sports': 'Tennis'}"
      ]
     },
     "execution_count": 46,
     "metadata": {},
     "output_type": "execute_result"
    }
   ],
   "source": [
    "dict_3"
   ]
  },
  {
   "cell_type": "code",
   "execution_count": null,
   "id": "07dc5593",
   "metadata": {},
   "outputs": [],
   "source": []
  }
 ],
 "metadata": {
  "kernelspec": {
   "display_name": "base",
   "language": "python",
   "name": "python3"
  },
  "language_info": {
   "codemirror_mode": {
    "name": "ipython",
    "version": 3
   },
   "file_extension": ".py",
   "mimetype": "text/x-python",
   "name": "python",
   "nbconvert_exporter": "python",
   "pygments_lexer": "ipython3",
   "version": "3.13.5"
  }
 },
 "nbformat": 4,
 "nbformat_minor": 5
}
