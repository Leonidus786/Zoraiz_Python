{
 "cells": [
  {
   "cell_type": "markdown",
   "id": "df92203f",
   "metadata": {},
   "source": [
    "### Tuples --> A tuple is a collection which is ordered and unchangeable."
   ]
  },
  {
   "cell_type": "code",
   "execution_count": 1,
   "id": "9491e49e",
   "metadata": {},
   "outputs": [],
   "source": [
    "my_tuple = (1, 2, 3.5, 3+5j, \"Zoraiz\", [1,2,3], (2.7,))"
   ]
  },
  {
   "cell_type": "code",
   "execution_count": 2,
   "id": "a0783aca",
   "metadata": {},
   "outputs": [
    {
     "data": {
      "text/plain": [
       "(1, 2, 3.5, (3+5j), 'Zoraiz', [1, 2, 3], (2.7,))"
      ]
     },
     "execution_count": 2,
     "metadata": {},
     "output_type": "execute_result"
    }
   ],
   "source": [
    "my_tuple"
   ]
  },
  {
   "cell_type": "code",
   "execution_count": 3,
   "id": "ab071010",
   "metadata": {},
   "outputs": [
    {
     "data": {
      "text/plain": [
       "7"
      ]
     },
     "execution_count": 3,
     "metadata": {},
     "output_type": "execute_result"
    }
   ],
   "source": [
    "len(my_tuple)"
   ]
  },
  {
   "cell_type": "code",
   "execution_count": 4,
   "id": "871b89f5",
   "metadata": {},
   "outputs": [
    {
     "data": {
      "text/plain": [
       "'Zoraiz'"
      ]
     },
     "execution_count": 4,
     "metadata": {},
     "output_type": "execute_result"
    }
   ],
   "source": [
    "my_tuple[4]"
   ]
  },
  {
   "cell_type": "code",
   "execution_count": 5,
   "id": "b9aec0c8",
   "metadata": {},
   "outputs": [
    {
     "data": {
      "text/plain": [
       "'Zoraiz'"
      ]
     },
     "execution_count": 5,
     "metadata": {},
     "output_type": "execute_result"
    }
   ],
   "source": [
    "my_tuple[-3]"
   ]
  },
  {
   "cell_type": "code",
   "execution_count": 6,
   "id": "78fb1f86",
   "metadata": {},
   "outputs": [
    {
     "data": {
      "text/plain": [
       "([1, 2, 3], (2.7,))"
      ]
     },
     "execution_count": 6,
     "metadata": {},
     "output_type": "execute_result"
    }
   ],
   "source": [
    "my_tuple[5:]"
   ]
  },
  {
   "cell_type": "code",
   "execution_count": 7,
   "id": "6aee4b87",
   "metadata": {},
   "outputs": [
    {
     "data": {
      "text/plain": [
       "2"
      ]
     },
     "execution_count": 7,
     "metadata": {},
     "output_type": "execute_result"
    }
   ],
   "source": [
    "my_tuple[5][1]"
   ]
  },
  {
   "cell_type": "code",
   "execution_count": 8,
   "id": "1b63c223",
   "metadata": {},
   "outputs": [
    {
     "ename": "TypeError",
     "evalue": "'tuple' object does not support item assignment",
     "output_type": "error",
     "traceback": [
      "\u001b[1;31m---------------------------------------------------------------------------\u001b[0m",
      "\u001b[1;31mTypeError\u001b[0m                                 Traceback (most recent call last)",
      "Cell \u001b[1;32mIn[8], line 1\u001b[0m\n\u001b[1;32m----> 1\u001b[0m my_tuple[\u001b[38;5;241m1\u001b[39m] \u001b[38;5;241m=\u001b[39m \u001b[38;5;241m3\u001b[39m\n",
      "\u001b[1;31mTypeError\u001b[0m: 'tuple' object does not support item assignment"
     ]
    }
   ],
   "source": [
    "my_tuple[1] = 3"
   ]
  },
  {
   "cell_type": "code",
   "execution_count": 9,
   "id": "482c5a95",
   "metadata": {},
   "outputs": [],
   "source": [
    "list_1 = list(my_tuple)"
   ]
  },
  {
   "cell_type": "code",
   "execution_count": 10,
   "id": "0a047323",
   "metadata": {},
   "outputs": [
    {
     "data": {
      "text/plain": [
       "[1, 2, 3.5, (3+5j), 'Zoraiz', [1, 2, 3], (2.7,)]"
      ]
     },
     "execution_count": 10,
     "metadata": {},
     "output_type": "execute_result"
    }
   ],
   "source": [
    "list_1"
   ]
  },
  {
   "cell_type": "code",
   "execution_count": 11,
   "id": "9270e011",
   "metadata": {},
   "outputs": [],
   "source": [
    "list_1[1] = 3"
   ]
  },
  {
   "cell_type": "code",
   "execution_count": 12,
   "id": "422200d3",
   "metadata": {},
   "outputs": [
    {
     "data": {
      "text/plain": [
       "[1, 3, 3.5, (3+5j), 'Zoraiz', [1, 2, 3], (2.7,)]"
      ]
     },
     "execution_count": 12,
     "metadata": {},
     "output_type": "execute_result"
    }
   ],
   "source": [
    "list_1"
   ]
  },
  {
   "cell_type": "code",
   "execution_count": 13,
   "id": "544aca58",
   "metadata": {},
   "outputs": [],
   "source": [
    "my_tuple = tuple(list_1)"
   ]
  },
  {
   "cell_type": "code",
   "execution_count": 14,
   "id": "5592dec1",
   "metadata": {},
   "outputs": [
    {
     "data": {
      "text/plain": [
       "(1, 3, 3.5, (3+5j), 'Zoraiz', [1, 2, 3], (2.7,))"
      ]
     },
     "execution_count": 14,
     "metadata": {},
     "output_type": "execute_result"
    }
   ],
   "source": [
    "my_tuple"
   ]
  },
  {
   "cell_type": "markdown",
   "id": "6713f378",
   "metadata": {},
   "source": [
    "#### If you want to change tuple items first of all you need to convert it into list then change the items inside list then convert it back into tuple."
   ]
  },
  {
   "cell_type": "code",
   "execution_count": 16,
   "id": "fcc0cf8f",
   "metadata": {},
   "outputs": [],
   "source": [
    "### when you create a tuple then it is called packing a tuple.\n",
    "fruits = (\"apple\", \"banana\", \"cherry\")"
   ]
  },
  {
   "cell_type": "code",
   "execution_count": 17,
   "id": "219978b5",
   "metadata": {},
   "outputs": [],
   "source": [
    "### unpacking a tuple\n",
    "Green, Yellow, Red = fruits\n"
   ]
  },
  {
   "cell_type": "code",
   "execution_count": 18,
   "id": "85cba363",
   "metadata": {},
   "outputs": [
    {
     "data": {
      "text/plain": [
       "'apple'"
      ]
     },
     "execution_count": 18,
     "metadata": {},
     "output_type": "execute_result"
    }
   ],
   "source": [
    "Green"
   ]
  },
  {
   "cell_type": "code",
   "execution_count": 19,
   "id": "41c1b143",
   "metadata": {},
   "outputs": [
    {
     "data": {
      "text/plain": [
       "'banana'"
      ]
     },
     "execution_count": 19,
     "metadata": {},
     "output_type": "execute_result"
    }
   ],
   "source": [
    "Yellow"
   ]
  },
  {
   "cell_type": "code",
   "execution_count": 20,
   "id": "374284e9",
   "metadata": {},
   "outputs": [
    {
     "data": {
      "text/plain": [
       "'cherry'"
      ]
     },
     "execution_count": 20,
     "metadata": {},
     "output_type": "execute_result"
    }
   ],
   "source": [
    "Red"
   ]
  },
  {
   "cell_type": "code",
   "execution_count": 21,
   "id": "bbe49975",
   "metadata": {},
   "outputs": [
    {
     "name": "stdout",
     "output_type": "stream",
     "text": [
      "apple\n",
      "banana\n",
      "cherry\n"
     ]
    }
   ],
   "source": [
    "for i in fruits:\n",
    "    print(i)"
   ]
  },
  {
   "cell_type": "code",
   "execution_count": 22,
   "id": "b9540931",
   "metadata": {},
   "outputs": [],
   "source": [
    "tuple1 = (\"a\", \"b\" , \"c\")\n",
    "tuple2 = (1, 2, 3)"
   ]
  },
  {
   "cell_type": "code",
   "execution_count": 23,
   "id": "0a9d4888",
   "metadata": {},
   "outputs": [],
   "source": [
    "# Cocatenating a tuple \n",
    "tuple3 = tuple1 + tuple2"
   ]
  },
  {
   "cell_type": "code",
   "execution_count": 24,
   "id": "d8a8ba6f",
   "metadata": {},
   "outputs": [
    {
     "data": {
      "text/plain": [
       "('a', 'b', 'c', 1, 2, 3)"
      ]
     },
     "execution_count": 24,
     "metadata": {},
     "output_type": "execute_result"
    }
   ],
   "source": [
    "tuple3"
   ]
  },
  {
   "cell_type": "code",
   "execution_count": null,
   "id": "4f6d530e",
   "metadata": {},
   "outputs": [],
   "source": []
  }
 ],
 "metadata": {
  "kernelspec": {
   "display_name": "base",
   "language": "python",
   "name": "python3"
  },
  "language_info": {
   "codemirror_mode": {
    "name": "ipython",
    "version": 3
   },
   "file_extension": ".py",
   "mimetype": "text/x-python",
   "name": "python",
   "nbconvert_exporter": "python",
   "pygments_lexer": "ipython3",
   "version": "3.13.5"
  }
 },
 "nbformat": 4,
 "nbformat_minor": 5
}
