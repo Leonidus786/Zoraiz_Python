{
 "cells": [
  {
   "cell_type": "markdown",
   "id": "61750b63",
   "metadata": {},
   "source": [
    "### Set -- A set is a collection of multiple items which is unordered, unchangeable\\*, and unindexed.\n"
   ]
  },
  {
   "cell_type": "markdown",
   "id": "b79426ae",
   "metadata": {},
   "source": []
  },
  {
   "cell_type": "code",
   "execution_count": 2,
   "id": "8cb1e7c2",
   "metadata": {},
   "outputs": [],
   "source": [
    "Set_1 = {\"Zoraiz\", \"Abhishek\", 1, 2.5, True, False, 0}"
   ]
  },
  {
   "cell_type": "code",
   "execution_count": 3,
   "id": "509ba0bb",
   "metadata": {},
   "outputs": [
    {
     "data": {
      "text/plain": [
       "set"
      ]
     },
     "execution_count": 3,
     "metadata": {},
     "output_type": "execute_result"
    }
   ],
   "source": [
    "type(Set_1)"
   ]
  },
  {
   "cell_type": "code",
   "execution_count": 4,
   "id": "ee1620a7",
   "metadata": {},
   "outputs": [
    {
     "data": {
      "text/plain": [
       "{1, 2.5, 'Abhishek', False, 'Zoraiz'}"
      ]
     },
     "execution_count": 4,
     "metadata": {},
     "output_type": "execute_result"
    }
   ],
   "source": [
    "Set_1"
   ]
  },
  {
   "cell_type": "markdown",
   "id": "4b04a946",
   "metadata": {},
   "source": [
    "### Booleans -- True and False\n",
    "\n",
    "### True is represented by 1.\n",
    "\n",
    "### False is represented by 0.\n"
   ]
  },
  {
   "cell_type": "code",
   "execution_count": 5,
   "id": "682b9b0c",
   "metadata": {},
   "outputs": [
    {
     "name": "stdout",
     "output_type": "stream",
     "text": [
      "False\n",
      "False\n",
      "False\n",
      "False\n",
      "False\n",
      "False\n",
      "False\n"
     ]
    }
   ],
   "source": [
    "## Boolean value of False\n",
    "print(bool(False))\n",
    "\n",
    "## Boolean  Value of None\n",
    "print(bool(None))\n",
    "\n",
    "## Boolean  Value of 0\n",
    "print(bool(0))\n",
    "\n",
    "## Boolean  Value of empty string\n",
    "print(bool(\"\"))\n",
    "\n",
    "## Boolean  Value of empty tuple\n",
    "print(bool(()))\n",
    "\n",
    "## Boolean  Value of empty list\n",
    "print(bool([]))\n",
    "\n",
    "## Boolean  Value of empty dictionary\n",
    "print(bool({}))  "
   ]
  },
  {
   "cell_type": "code",
   "execution_count": 6,
   "id": "84a7a6f8",
   "metadata": {},
   "outputs": [
    {
     "name": "stdout",
     "output_type": "stream",
     "text": [
      "True\n",
      "True\n",
      "True\n",
      "True\n",
      "True\n",
      "True\n",
      "True\n"
     ]
    }
   ],
   "source": [
    "print(bool(True))\n",
    "print(bool(2))\n",
    "print(bool(1))\n",
    "print(bool(\"Zoraiz\"))\n",
    "print(bool((\"Abhishek\",)))\n",
    "print(bool([1,2,3]))\n",
    "print(bool({\"key\": \"Value\"}))\n"
   ]
  },
  {
   "cell_type": "markdown",
   "id": "5b50959c",
   "metadata": {},
   "source": [
    "#### Note:\n",
    "\n",
    "1. The values True and 1 are considered the same value in sets, and are treated as duplicates.\n",
    "2. The values False and 0 are considered the same value in sets, and are treated as duplicates.\n"
   ]
  },
  {
   "cell_type": "code",
   "execution_count": 9,
   "id": "1821b648",
   "metadata": {},
   "outputs": [],
   "source": [
    "set_1 = {\"Zoraiz\", \"Apple\", \"Zoraiz\", \"Apple\", True, False, 0, 1}"
   ]
  },
  {
   "cell_type": "code",
   "execution_count": 10,
   "id": "2777ba5c",
   "metadata": {},
   "outputs": [
    {
     "data": {
      "text/plain": [
       "{'Apple', False, True, 'Zoraiz'}"
      ]
     },
     "execution_count": 10,
     "metadata": {},
     "output_type": "execute_result"
    }
   ],
   "source": [
    "set_1"
   ]
  },
  {
   "cell_type": "code",
   "execution_count": 12,
   "id": "e71af472",
   "metadata": {},
   "outputs": [
    {
     "data": {
      "text/plain": [
       "4"
      ]
     },
     "execution_count": 12,
     "metadata": {},
     "output_type": "execute_result"
    }
   ],
   "source": [
    "len(set_1)"
   ]
  },
  {
   "cell_type": "code",
   "execution_count": 13,
   "id": "b3d1e724",
   "metadata": {},
   "outputs": [
    {
     "name": "stdout",
     "output_type": "stream",
     "text": [
      "False\n",
      "True\n",
      "Apple\n",
      "Zoraiz\n"
     ]
    }
   ],
   "source": [
    "for i in set_1:\n",
    "    print(i)"
   ]
  },
  {
   "cell_type": "code",
   "execution_count": 14,
   "id": "c28a25c7",
   "metadata": {},
   "outputs": [
    {
     "ename": "TypeError",
     "evalue": "'set' object is not subscriptable",
     "output_type": "error",
     "traceback": [
      "\u001b[1;31m---------------------------------------------------------------------------\u001b[0m",
      "\u001b[1;31mTypeError\u001b[0m                                 Traceback (most recent call last)",
      "Cell \u001b[1;32mIn[14], line 1\u001b[0m\n\u001b[1;32m----> 1\u001b[0m set_1[\u001b[38;5;241m1\u001b[39m]\n",
      "\u001b[1;31mTypeError\u001b[0m: 'set' object is not subscriptable"
     ]
    }
   ],
   "source": [
    "set_1[1]"
   ]
  },
  {
   "cell_type": "code",
   "execution_count": 15,
   "id": "34b89e15",
   "metadata": {},
   "outputs": [
    {
     "data": {
      "text/plain": [
       "True"
      ]
     },
     "execution_count": 15,
     "metadata": {},
     "output_type": "execute_result"
    }
   ],
   "source": [
    "\"Zoraiz\" in set_1"
   ]
  },
  {
   "cell_type": "code",
   "execution_count": 16,
   "id": "d1dfe27e",
   "metadata": {},
   "outputs": [
    {
     "data": {
      "text/plain": [
       "False"
      ]
     },
     "execution_count": 16,
     "metadata": {},
     "output_type": "execute_result"
    }
   ],
   "source": [
    "\"Abhishek\" in set_1"
   ]
  },
  {
   "cell_type": "code",
   "execution_count": 17,
   "id": "f7b89d6a",
   "metadata": {},
   "outputs": [],
   "source": [
    "set_1.add(\"Abhishek\")"
   ]
  },
  {
   "cell_type": "code",
   "execution_count": 18,
   "id": "1c095cd3",
   "metadata": {},
   "outputs": [
    {
     "data": {
      "text/plain": [
       "{'Abhishek', 'Apple', False, True, 'Zoraiz'}"
      ]
     },
     "execution_count": 18,
     "metadata": {},
     "output_type": "execute_result"
    }
   ],
   "source": [
    "set_1"
   ]
  },
  {
   "cell_type": "code",
   "execution_count": 19,
   "id": "b9850d71",
   "metadata": {},
   "outputs": [],
   "source": [
    "thisset = {\"apple\", \"banana\", \"cherry\"}\n",
    "tropical = {\"pineapple\", \"mango\", \"papaya\"}"
   ]
  },
  {
   "cell_type": "code",
   "execution_count": 20,
   "id": "3d00db52",
   "metadata": {},
   "outputs": [],
   "source": [
    "thisset.update(tropical)"
   ]
  },
  {
   "cell_type": "code",
   "execution_count": 21,
   "id": "bbccd94f",
   "metadata": {},
   "outputs": [
    {
     "data": {
      "text/plain": [
       "{'apple', 'banana', 'cherry', 'mango', 'papaya', 'pineapple'}"
      ]
     },
     "execution_count": 21,
     "metadata": {},
     "output_type": "execute_result"
    }
   ],
   "source": [
    "thisset"
   ]
  },
  {
   "cell_type": "code",
   "execution_count": 22,
   "id": "a13f0a87",
   "metadata": {},
   "outputs": [],
   "source": [
    "set_1.remove(False)"
   ]
  },
  {
   "cell_type": "code",
   "execution_count": 23,
   "id": "30d5c2d1",
   "metadata": {},
   "outputs": [
    {
     "data": {
      "text/plain": [
       "{'Abhishek', 'Apple', True, 'Zoraiz'}"
      ]
     },
     "execution_count": 23,
     "metadata": {},
     "output_type": "execute_result"
    }
   ],
   "source": [
    "set_1"
   ]
  },
  {
   "cell_type": "markdown",
   "id": "ed7dfca6",
   "metadata": {},
   "source": [
    "### Note: If the item to remove does not exist, remove() will raise an error.\n"
   ]
  },
  {
   "cell_type": "code",
   "execution_count": 24,
   "id": "eaf11da2",
   "metadata": {},
   "outputs": [
    {
     "ename": "KeyError",
     "evalue": "'Mango'",
     "output_type": "error",
     "traceback": [
      "\u001b[1;31m---------------------------------------------------------------------------\u001b[0m",
      "\u001b[1;31mKeyError\u001b[0m                                  Traceback (most recent call last)",
      "Cell \u001b[1;32mIn[24], line 1\u001b[0m\n\u001b[1;32m----> 1\u001b[0m set_1\u001b[38;5;241m.\u001b[39mremove(\u001b[38;5;124m\"\u001b[39m\u001b[38;5;124mMango\u001b[39m\u001b[38;5;124m\"\u001b[39m)\n",
      "\u001b[1;31mKeyError\u001b[0m: 'Mango'"
     ]
    }
   ],
   "source": [
    "set_1.remove(\"Mango\")"
   ]
  },
  {
   "cell_type": "code",
   "execution_count": 25,
   "id": "86730528",
   "metadata": {},
   "outputs": [],
   "source": [
    "set_1.discard(\"Pineapple\")"
   ]
  },
  {
   "cell_type": "code",
   "execution_count": 26,
   "id": "6016f275",
   "metadata": {},
   "outputs": [
    {
     "data": {
      "text/plain": [
       "{'Abhishek', 'Apple', True, 'Zoraiz'}"
      ]
     },
     "execution_count": 26,
     "metadata": {},
     "output_type": "execute_result"
    }
   ],
   "source": [
    "set_1"
   ]
  },
  {
   "cell_type": "code",
   "execution_count": 27,
   "id": "b2c619f9",
   "metadata": {},
   "outputs": [],
   "source": [
    "set_1.discard(True)"
   ]
  },
  {
   "cell_type": "code",
   "execution_count": 28,
   "id": "4707adb0",
   "metadata": {},
   "outputs": [
    {
     "data": {
      "text/plain": [
       "{'Abhishek', 'Apple', 'Zoraiz'}"
      ]
     },
     "execution_count": 28,
     "metadata": {},
     "output_type": "execute_result"
    }
   ],
   "source": [
    "set_1"
   ]
  },
  {
   "cell_type": "code",
   "execution_count": 29,
   "id": "2b2af3c3",
   "metadata": {},
   "outputs": [
    {
     "data": {
      "text/plain": [
       "{'apple', 'banana', 'cherry', 'mango', 'papaya', 'pineapple'}"
      ]
     },
     "execution_count": 29,
     "metadata": {},
     "output_type": "execute_result"
    }
   ],
   "source": [
    "thisset"
   ]
  },
  {
   "cell_type": "markdown",
   "id": "77f356d7",
   "metadata": {},
   "source": [
    "### Note: Sets are unordered, so when using the pop() method, you do not know which item that gets removed.\n"
   ]
  },
  {
   "cell_type": "code",
   "execution_count": 30,
   "id": "9f16c34f",
   "metadata": {},
   "outputs": [
    {
     "data": {
      "text/plain": [
       "'papaya'"
      ]
     },
     "execution_count": 30,
     "metadata": {},
     "output_type": "execute_result"
    }
   ],
   "source": [
    "thisset.pop()"
   ]
  },
  {
   "cell_type": "markdown",
   "id": "0d907225",
   "metadata": {},
   "source": [
    "### Join Sets\n",
    "\n",
    "1. There are several ways to join two or more sets in Python.\n",
    "\n",
    "2. The union() and update() methods joins all items from both sets.\n",
    "\n",
    "3. The intersection() method keeps ONLY the duplicates.\n",
    "\n",
    "4. The difference() method keeps the items from the first set that are not in the other set(s).\n",
    "\n",
    "5. The symmetric_difference() method keeps all items EXCEPT the duplicates.\n"
   ]
  },
  {
   "cell_type": "code",
   "execution_count": 31,
   "id": "7f9defad",
   "metadata": {},
   "outputs": [],
   "source": [
    "set1 = {\"a\", \"b\", \"c\"}\n",
    "set2 = {1, 2, 3}"
   ]
  },
  {
   "cell_type": "code",
   "execution_count": 32,
   "id": "a317d30e",
   "metadata": {},
   "outputs": [],
   "source": [
    "set_3 = set1.union(set2)"
   ]
  },
  {
   "cell_type": "code",
   "execution_count": 33,
   "id": "31b61988",
   "metadata": {},
   "outputs": [
    {
     "data": {
      "text/plain": [
       "{1, 2, 3, 'a', 'b', 'c'}"
      ]
     },
     "execution_count": 33,
     "metadata": {},
     "output_type": "execute_result"
    }
   ],
   "source": [
    "set_3"
   ]
  },
  {
   "cell_type": "code",
   "execution_count": 40,
   "id": "2ab7610b",
   "metadata": {},
   "outputs": [],
   "source": [
    "set1.update(set2)"
   ]
  },
  {
   "cell_type": "code",
   "execution_count": 41,
   "id": "f89b5c50",
   "metadata": {},
   "outputs": [
    {
     "data": {
      "text/plain": [
       "{1, 2, 3, 'a', 'b', 'c'}"
      ]
     },
     "execution_count": 41,
     "metadata": {},
     "output_type": "execute_result"
    }
   ],
   "source": [
    "set1"
   ]
  },
  {
   "cell_type": "markdown",
   "id": "1d9130b6",
   "metadata": {},
   "source": [
    "#### Types of slashes\n",
    "\n",
    "1. / -- Forward Slash\n",
    "2. \\ -- Backward Slash\n",
    "3. | -- standing slash\n"
   ]
  },
  {
   "cell_type": "code",
   "execution_count": 42,
   "id": "0bfd51f4",
   "metadata": {},
   "outputs": [],
   "source": [
    "set_4 = set1 | set2"
   ]
  },
  {
   "cell_type": "code",
   "execution_count": 43,
   "id": "c8a01eb1",
   "metadata": {},
   "outputs": [
    {
     "data": {
      "text/plain": [
       "{1, 2, 3, 'a', 'b', 'c'}"
      ]
     },
     "execution_count": 43,
     "metadata": {},
     "output_type": "execute_result"
    }
   ],
   "source": [
    "set_4"
   ]
  },
  {
   "cell_type": "code",
   "execution_count": 44,
   "id": "ef6a2838",
   "metadata": {},
   "outputs": [
    {
     "name": "stdout",
     "output_type": "stream",
     "text": [
      "{1, 2, 3, 'John', 'apple', 'cherry', 'c', 'a', 'Elena', 'bananas', 'b'}\n"
     ]
    }
   ],
   "source": [
    "set1 = {\"a\", \"b\", \"c\"}\n",
    "set2 = {1, 2, 3}\n",
    "set3 = {\"John\", \"Elena\"}\n",
    "set4 = {\"apple\", \"bananas\", \"cherry\"}\n",
    "\n",
    "myset = set1.union(set2, set3, set4)\n",
    "print(myset)"
   ]
  },
  {
   "cell_type": "code",
   "execution_count": 45,
   "id": "b6adbe67",
   "metadata": {},
   "outputs": [
    {
     "name": "stdout",
     "output_type": "stream",
     "text": [
      "{1, 2, 3, 'John', 'apple', 'cherry', 'c', 'a', 'Elena', 'bananas', 'b'}\n"
     ]
    }
   ],
   "source": [
    "my_set = set1 | set2 | set3 |set4\n",
    "print(my_set)"
   ]
  },
  {
   "cell_type": "markdown",
   "id": "303a97ae",
   "metadata": {},
   "source": [
    "#### Note: The | operator only allows you to join sets with sets, and not with other data types like you can with the union() method.\n"
   ]
  },
  {
   "cell_type": "code",
   "execution_count": 46,
   "id": "e3417749",
   "metadata": {},
   "outputs": [
    {
     "name": "stdout",
     "output_type": "stream",
     "text": [
      "{1, 2, 3, 'c', 'a', 'b'}\n"
     ]
    }
   ],
   "source": [
    "x = {\"a\", \"b\", \"c\"}\n",
    "y = (1, 2, 3)\n",
    "\n",
    "z = x.union(y)\n",
    "print(z)"
   ]
  },
  {
   "cell_type": "markdown",
   "id": "66649904",
   "metadata": {},
   "source": [
    "### Intersection\n",
    "\n",
    "- Keep ONLY the duplicates\n",
    "\n",
    "- The intersection() method will return a new set, that only contains the items that are present in both sets.\n"
   ]
  },
  {
   "cell_type": "code",
   "execution_count": 47,
   "id": "6b08b607",
   "metadata": {},
   "outputs": [
    {
     "name": "stdout",
     "output_type": "stream",
     "text": [
      "{'apple'}\n"
     ]
    }
   ],
   "source": [
    "set1 = {\"apple\", \"banana\", \"cherry\"}\n",
    "set2 = {\"google\", \"microsoft\", \"apple\"}\n",
    "\n",
    "set3 = set1.intersection(set2)\n",
    "print(set3)"
   ]
  },
  {
   "cell_type": "markdown",
   "id": "5224494b",
   "metadata": {},
   "source": [
    "### Note: The & operator only allows you to join sets with sets, and not with other data types like you can with the intersection() method.\n"
   ]
  },
  {
   "cell_type": "code",
   "execution_count": 48,
   "id": "30388a02",
   "metadata": {},
   "outputs": [
    {
     "name": "stdout",
     "output_type": "stream",
     "text": [
      "{'apple'}\n"
     ]
    }
   ],
   "source": [
    "set1 = {\"apple\", \"banana\", \"cherry\"}\n",
    "set2 = {\"google\", \"microsoft\", \"apple\"}\n",
    "\n",
    "set3 = set1 & set2\n",
    "print(set3)"
   ]
  },
  {
   "cell_type": "markdown",
   "id": "01701d48",
   "metadata": {},
   "source": [
    "### The intersection_update() method will also keep ONLY the duplicates, but it will change the original set instead of returning a new set.\n"
   ]
  },
  {
   "cell_type": "code",
   "execution_count": 49,
   "id": "e82cd1a9",
   "metadata": {},
   "outputs": [
    {
     "name": "stdout",
     "output_type": "stream",
     "text": [
      "{'apple'}\n"
     ]
    }
   ],
   "source": [
    "set1 = {\"apple\", \"banana\", \"cherry\"}\n",
    "set2 = {\"google\", \"microsoft\", \"apple\"}\n",
    "\n",
    "set1.intersection_update(set2)\n",
    "\n",
    "print(set1)"
   ]
  },
  {
   "cell_type": "markdown",
   "id": "8623e883",
   "metadata": {},
   "source": [
    "### Difference\n",
    "\n",
    "- The difference() method will return a new set that will contain only the items from the first set that are not present in the other set.\n"
   ]
  },
  {
   "cell_type": "code",
   "execution_count": 50,
   "id": "00ce2cbc",
   "metadata": {},
   "outputs": [
    {
     "name": "stdout",
     "output_type": "stream",
     "text": [
      "{'banana', 'cherry'}\n"
     ]
    }
   ],
   "source": [
    "set1 = {\"apple\", \"banana\", \"cherry\"}\n",
    "set2 = {\"google\", \"microsoft\", \"apple\"}\n",
    "\n",
    "set3 = set1.difference(set2)\n",
    "\n",
    "print(set3)"
   ]
  },
  {
   "cell_type": "code",
   "execution_count": 51,
   "id": "fea0241e",
   "metadata": {},
   "outputs": [
    {
     "name": "stdout",
     "output_type": "stream",
     "text": [
      "{'banana', 'cherry', 'microsoft', 'google'}\n"
     ]
    }
   ],
   "source": [
    "set1 = {\"apple\", \"banana\", \"cherry\"}\n",
    "set2 = {\"google\", \"microsoft\", \"apple\"}\n",
    "\n",
    "set3 = set1.symmetric_difference(set2)\n",
    "\n",
    "print(set3)"
   ]
  },
  {
   "cell_type": "code",
   "execution_count": 52,
   "id": "715c4183",
   "metadata": {},
   "outputs": [
    {
     "name": "stdout",
     "output_type": "stream",
     "text": [
      "frozenset({'banana', 'cherry', 'apple'})\n",
      "<class 'frozenset'>\n"
     ]
    }
   ],
   "source": [
    "x = frozenset({\"apple\", \"banana\", \"cherry\"})\n",
    "print(x)\n",
    "print(type(x))"
   ]
  },
  {
   "cell_type": "code",
   "execution_count": null,
   "id": "c7b315a7",
   "metadata": {},
   "outputs": [],
   "source": []
  }
 ],
 "metadata": {
  "kernelspec": {
   "display_name": "base",
   "language": "python",
   "name": "python3"
  },
  "language_info": {
   "codemirror_mode": {
    "name": "ipython",
    "version": 3
   },
   "file_extension": ".py",
   "mimetype": "text/x-python",
   "name": "python",
   "nbconvert_exporter": "python",
   "pygments_lexer": "ipython3",
   "version": "3.13.5"
  }
 },
 "nbformat": 4,
 "nbformat_minor": 5
}
